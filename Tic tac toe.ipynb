{
 "cells": [
  {
   "cell_type": "code",
   "execution_count": 1,
   "id": "99dc12b4-44f7-404c-88e3-260cf174cd17",
   "metadata": {},
   "outputs": [],
   "source": [
    "from IPython.display import clear_output\n"
   ]
  },
  {
   "cell_type": "code",
   "execution_count": 2,
   "id": "6e99a1b4-29e7-430e-b7e4-ff8c2f6aa88c",
   "metadata": {},
   "outputs": [],
   "source": [
    "def display_board(board):\n",
    "\n",
    "    clear_output()\n",
    "    print(board[0]+'|'+board[1]+'|'+board[2])\n",
    "    print(board[3]+'|'+board[4]+'|'+board[5])\n",
    "    print(board[6]+'|'+board[7]+'|'+board[8])\n",
    "   "
   ]
  },
  {
   "cell_type": "code",
   "execution_count": null,
   "id": "873ca324-c208-4fce-9a8c-76f87e842d0e",
   "metadata": {},
   "outputs": [],
   "source": []
  },
  {
   "cell_type": "code",
   "execution_count": 3,
   "id": "c7321607-00e5-4833-88a2-50663ae19bbf",
   "metadata": {},
   "outputs": [],
   "source": [
    "def player_input():\n",
    "\n",
    "    marker =''\n",
    "\n",
    "    while marker!= 'X' and marker!='O':\n",
    "         marker = input('player1. Choose a parameter X or O : ')\n",
    "\n",
    "    player1 = marker\n",
    "    \n",
    "    if player1 == 'X':\n",
    "        player2 ='O'\n",
    "    else:\n",
    "        player2 = 'X'\n",
    "\n",
    "    return (player1,player2)\n",
    "    \n",
    "        \n",
    "        "
   ]
  },
  {
   "cell_type": "code",
   "execution_count": null,
   "id": "7364f7b2-5fd1-45ca-af3d-d1425c548ea6",
   "metadata": {},
   "outputs": [],
   "source": []
  },
  {
   "cell_type": "code",
   "execution_count": 4,
   "id": "3f2d900f-4db5-4907-96a7-b69148110547",
   "metadata": {},
   "outputs": [],
   "source": [
    "def place_maker(board,marker,position):\n",
    "\n",
    "    board[position] = marker \n"
   ]
  },
  {
   "cell_type": "code",
   "execution_count": null,
   "id": "8ca00d71-5040-4ce6-aba0-1176c52d9eb5",
   "metadata": {},
   "outputs": [],
   "source": []
  },
  {
   "cell_type": "code",
   "execution_count": 5,
   "id": "0f87a75f-d5ae-427c-b797-d7fbac693f02",
   "metadata": {},
   "outputs": [],
   "source": [
    "def win_check(board,mark):\n",
    "\n",
    "    if board[0] == board[1]== board[2] == mark or board[3] == board[4]== board[5] == mark or board[6] == board[7]== board[8] == mark:\n",
    "        return True\n",
    "    if board[0] == board[3]== board[6] == mark or  board[1] == board[4]== board[7] == mark or  board[2] == board[5]== board[8] == mark:\n",
    "        return True\n",
    "    if  board[0] == board[4]== board[8] == mark or  board[2] == board[4]== board[6] == mark:\n",
    "        return True\n",
    "    else:\n",
    "        return False\n",
    "    "
   ]
  },
  {
   "cell_type": "code",
   "execution_count": null,
   "id": "bf192ce8-d27b-4a6c-bd6f-32b61f368274",
   "metadata": {},
   "outputs": [],
   "source": []
  },
  {
   "cell_type": "code",
   "execution_count": 6,
   "id": "9baceb28-b0b0-4953-8497-ab1c140ec6e4",
   "metadata": {},
   "outputs": [],
   "source": [
    "from random import choice\n",
    "\n",
    "def rand_choice():\n",
    "\n",
    "    players = [\"player1\",'player2']\n",
    "    result = choice(players)\n",
    "\n",
    "    return (result)"
   ]
  },
  {
   "cell_type": "code",
   "execution_count": null,
   "id": "1c005114-3307-4d22-b766-66de9432653c",
   "metadata": {},
   "outputs": [],
   "source": []
  },
  {
   "cell_type": "code",
   "execution_count": 7,
   "id": "ddfe2251-c924-4ff4-8a29-c1fa43a02f69",
   "metadata": {},
   "outputs": [],
   "source": [
    "def space_check(board , position):\n",
    "\n",
    "    if board[position]== ' ':\n",
    "        return True\n",
    "    else:\n",
    "        return False\n"
   ]
  },
  {
   "cell_type": "code",
   "execution_count": 8,
   "id": "095e1354-f34a-477e-8646-2a0a2fcbbba7",
   "metadata": {},
   "outputs": [],
   "source": [
    "\n",
    "def check_fullboard(board):\n",
    "    \n",
    "    for cell in board :\n",
    "        if cell == ' ' :\n",
    "            return False\n",
    "        \n",
    "    return True\n",
    "    "
   ]
  },
  {
   "cell_type": "code",
   "execution_count": 9,
   "id": "3d2de7a0-9e8f-4a64-8167-a75df8f8c522",
   "metadata": {},
   "outputs": [],
   "source": [
    "def player_position(board):\n",
    "\n",
    "    result = ''\n",
    "\n",
    "    while result == '':\n",
    "      position = int(input(\"enter the position : \"))\n",
    "    \n",
    "      if space_check(board,position) == True:\n",
    "         result = 'a'\n",
    "\n",
    "      else:\n",
    "          print('no space , try again!')\n",
    "          pass\n",
    "    return position    "
   ]
  },
  {
   "cell_type": "code",
   "execution_count": 10,
   "id": "3410346a-7b62-4752-ba8d-8783e79ec4dc",
   "metadata": {},
   "outputs": [],
   "source": [
    "def replay():\n",
    "    \n",
    "    reply =''\n",
    "    while reply != 'yes' and reply != 'no':\n",
    "        \n",
    "      reply = input('Do you want to play again (yes or no) :')\n",
    "      if reply == 'yes':\n",
    "         return True\n",
    "\n",
    "    return False"
   ]
  },
  {
   "cell_type": "code",
   "execution_count": null,
   "id": "f6646ef7-a580-4be9-b53a-fe26d21c3dd7",
   "metadata": {},
   "outputs": [
    {
     "name": "stdout",
     "output_type": "stream",
     "text": [
      "O|X|X\n",
      "O|O|O\n",
      "X|O|X\n",
      "player 1 won!\n"
     ]
    }
   ],
   "source": [
    "print('welcome to tic tac toe!')\n",
    "\n",
    "while True:\n",
    "\n",
    "\n",
    "      board1 = [' ',' ',' ',' ',' ',' ',' ',' ',' ']\n",
    "      display_board(board1)\n",
    "      marker1 , marker2 = player_input()\n",
    "\n",
    "\n",
    "      res = input('Are you ready to play (y or n) ? : ')\n",
    "\n",
    "      if res =='y':\n",
    "          game_on = True\n",
    "      if res == 'n':\n",
    "          game_on = False\n",
    "\n",
    "      turn = rand_choice()\n",
    "\n",
    "      while game_on == True:\n",
    "\n",
    "\n",
    "            if turn == \"player1\":\n",
    "                \n",
    "                     print('player. 1 ')\n",
    "                     position =  player_position(board1)\n",
    "                     if space_check(board1, position):\n",
    "                        place_maker(board1,marker1,position)\n",
    "                        display_board(board1)\n",
    "    \n",
    "                        if win_check(board1,marker1):\n",
    "                          print('player 1 won!')\n",
    "                          game_on = False\n",
    "\n",
    "                        if game_on == True and  check_fullboard(board1):\n",
    "                          print('it\\'s a tie')\n",
    "                          game_on = False\n",
    "\n",
    "                        else:\n",
    "                          turn = 'player2'\n",
    "\n",
    "\n",
    "                \n",
    "\n",
    "            else:\n",
    "\n",
    "                if turn == \"player2\":\n",
    "                    \n",
    "                     print('player. 2 ')\n",
    "                     position =  player_position(board1)\n",
    "                     if space_check(board1 , position):\n",
    "                        place_maker(board1,marker2,position)\n",
    "                        display_board(board1)\n",
    "    \n",
    "                        if win_check(board1,marker2):\n",
    "                          print('player 2 won!')\n",
    "                          game_on = False\n",
    "\n",
    "                        if game_on == True and check_fullboard(board1):\n",
    "                          print('it\\'s a tie')\n",
    "                          game_on = False\n",
    "\n",
    "                        else:\n",
    "                          turn = 'player1'\n",
    "\n",
    "                     \n",
    "\n",
    "\n",
    "      if not replay():\n",
    "         break"
   ]
  },
  {
   "cell_type": "code",
   "execution_count": null,
   "id": "2a28f76a-57dd-431d-8d20-ba906936f600",
   "metadata": {},
   "outputs": [],
   "source": []
  },
  {
   "cell_type": "code",
   "execution_count": null,
   "id": "97ca1a71-115c-45bc-be56-043849c55769",
   "metadata": {},
   "outputs": [],
   "source": []
  },
  {
   "cell_type": "code",
   "execution_count": null,
   "id": "14301aa6-42a8-4eb3-bf1c-e871375051ff",
   "metadata": {},
   "outputs": [],
   "source": []
  },
  {
   "cell_type": "code",
   "execution_count": null,
   "id": "32ac8891-e4a6-4fc4-b269-6288c6642bef",
   "metadata": {},
   "outputs": [],
   "source": []
  },
  {
   "cell_type": "code",
   "execution_count": null,
   "id": "255f6ff3-b787-4cc4-a3ed-575efa611e0e",
   "metadata": {},
   "outputs": [],
   "source": [
    "\n"
   ]
  },
  {
   "cell_type": "code",
   "execution_count": null,
   "id": "8a284d51-1988-480c-a258-2f0700487f77",
   "metadata": {},
   "outputs": [],
   "source": []
  },
  {
   "cell_type": "code",
   "execution_count": null,
   "id": "92e6e095-31f2-459b-b2ae-6cd6b79ed71c",
   "metadata": {},
   "outputs": [],
   "source": []
  },
  {
   "cell_type": "code",
   "execution_count": null,
   "id": "a8a905a1-3ec7-40c9-ac5e-a890cf924ea5",
   "metadata": {},
   "outputs": [],
   "source": []
  },
  {
   "cell_type": "code",
   "execution_count": null,
   "id": "dcd679d2-c914-4db6-b5e3-e3dada64baf0",
   "metadata": {},
   "outputs": [],
   "source": []
  },
  {
   "cell_type": "code",
   "execution_count": null,
   "id": "fb58260a-5c0e-4732-9e64-4f4a4753c75e",
   "metadata": {},
   "outputs": [],
   "source": []
  }
 ],
 "metadata": {
  "kernelspec": {
   "display_name": "Python 3 (ipykernel)",
   "language": "python",
   "name": "python3"
  },
  "language_info": {
   "codemirror_mode": {
    "name": "ipython",
    "version": 3
   },
   "file_extension": ".py",
   "mimetype": "text/x-python",
   "name": "python",
   "nbconvert_exporter": "python",
   "pygments_lexer": "ipython3",
   "version": "3.11.7"
  }
 },
 "nbformat": 4,
 "nbformat_minor": 5
}
